{
  "cells": [
    {
      "cell_type": "markdown",
      "id": "d0d772fa",
      "metadata": {
        "id": "d0d772fa"
      },
      "source": [
        "# Routine Generation System\n",
        "\n",
        "Made using Genetic Algorithms\n",
        "\n",
        "Developed by Nafis Adnan Mondal, Rishab Dugar and Sanghamitra De\n"
      ]
    },
    {
      "cell_type": "markdown",
      "id": "ab58f0a3",
      "metadata": {
        "id": "ab58f0a3"
      },
      "source": [
        "### Inputs\n",
        "\n",
        "1. No. of student groups\n",
        "2. No. of students in each groups\n",
        "3. No. of classes of each student group\n",
        "4. Subj ID for all classes of each student group\n",
        "5. No. of profs\n",
        "6. Subject ID of each Prof (with preferences)\n",
        "7. No. of subjects\n",
        "8. Hours per week required for each subj\n",
        "9. Max hours of classes per day\n",
        "\n",
        "### Constraints\n",
        "\n",
        "**Hard Constraints**\n",
        "\n",
        "1. Student group strength <= seating capacity of each class room\n",
        "2. One prof per class\n",
        "3. One student group per class\n",
        "4. Length of each class >= 1\n",
        "\n",
        "**Soft Constraints**\n",
        "Length of each class <= 2\n",
        "\n",
        "### Output\n",
        "\n",
        "1. Routine\n",
        "\n"
      ]
    },
    {
      "cell_type": "markdown",
      "id": "83b1c84b",
      "metadata": {
        "id": "83b1c84b"
      },
      "source": [
        "## Breakdown\n",
        "\n",
        "| Item                                                     | Description                                                             | Position                                |\n",
        "| -------------------------------------------------------- | ----------------------------------------------------------------------- | --------------------------------------- |\n",
        "| Routine                                                  | Combination of many classes of an entire week                           | Combination of CHROMOSOMEs (individual) |\n",
        "| Class                                                    | Combination of prof, date & time, subj, studentgroup, length, classRoom | CHRMOSOME                               |\n",
        "| prof, date & time, subj, studentgroup, length, classRoom |                                                     | GENES                                   |\n",
        "| Selected ROutine                                         |                                                                         | PARENT                                  |\n",
        "| New Routine                                              |                                                                         | CHILDREN                                |\n",
        "\n",
        "### Methods used\n",
        "\n",
        "1. Creating an Initial Population - Random\n",
        "2. Selection of Parents to Create a New Generation - Propotionate selection\n",
        "3. Next generation - Mixture of Parent and Children at a fixed ratio\n",
        "4. Crossover - 1 point crossover\n",
        "5. Mutation - Non-uniform mutation\n",
        "6. termination criteria - minimal changes in fitness of consecutive generation\n",
        "\n",
        "### Parameters to be decide:\n",
        "\n",
        "1. The size of the population of solutions (M),\n",
        "2. the number of parents (R),\n",
        "3. the probability of crossover (PC),\n",
        "4. the probability of mutation (PM),\n",
        "5. the fitness function\n",
        "6. and the termination criterion\n"
      ]
    },
    {
      "cell_type": "markdown",
      "id": "f37382f6",
      "metadata": {
        "id": "f37382f6"
      },
      "source": []
    },
    {
      "cell_type": "markdown",
      "id": "35a96f49",
      "metadata": {
        "id": "35a96f49"
      },
      "source": [
        "## Initializing Descision Variables\n"
      ]
    },
    {
      "cell_type": "markdown",
      "id": "0b307f58",
      "metadata": {
        "id": "0b307f58"
      },
      "source": [
        "### Defining Variables"
      ]
    },
    {
      "cell_type": "code",
      "execution_count": null,
      "id": "a4dbe0cc",
      "metadata": {
        "id": "a4dbe0cc",
        "vscode": {
          "languageId": "python"
        }
      },
      "outputs": [],
      "source": [
        "class Subject:\n",
        "    def __init__(self, title, dept, hours, groups,  _id) -> None: \n",
        "        self.title = title\n",
        "        self.dept = dept\n",
        "        self.hours = hours\n",
        "        self.groups = groups # array\n",
        "        self._id = _id"
      ]
    },
    {
      "cell_type": "code",
      "execution_count": null,
      "id": "b273752f",
      "metadata": {
        "id": "b273752f",
        "vscode": {
          "languageId": "python"
        }
      },
      "outputs": [],
      "source": [
        "class StudentGroup: \n",
        "\tdef __init__(self, name, size):\n",
        "\t\tself.name = name\n",
        "\t\tself.size = size"
      ]
    },
    {
      "cell_type": "code",
      "execution_count": null,
      "id": "a2aeb7da",
      "metadata": {
        "id": "a2aeb7da",
        "vscode": {
          "languageId": "python"
        }
      },
      "outputs": [],
      "source": [
        "class Professor: \n",
        "    def __init__(self, name, dept):\n",
        "        self.name = name\n",
        "        self.dept = dept\n",
        "        # self.preference_per_subject = preference_per_subject"
      ]
    },
    {
      "cell_type": "markdown",
      "id": "0baa3692",
      "metadata": {
        "id": "0baa3692"
      },
      "source": [
        "### Import Data from FORM"
      ]
    },
    {
      "cell_type": "code",
      "execution_count": null,
      "id": "cb232266",
      "metadata": {
        "id": "cb232266",
        "vscode": {
          "languageId": "python"
        }
      },
      "outputs": [],
      "source": [
        "import pandas as pd\n",
        "import os\n",
        "\n",
        "DATA_PATH = os.path.join(\"/content/Preference_form_for_Profs_-_Form_Responses_1.csv\")\n",
        "\n",
        "def loadPreferenceData(path = DATA_PATH):\n",
        "    return pd.read_csv(path)\n",
        "\n",
        "preferenceData = loadPreferenceData()\n",
        "preferenceData.head()\n"
      ]
    },
    {
      "cell_type": "markdown",
      "id": "e903e1dc",
      "metadata": {
        "id": "e903e1dc"
      },
      "source": [
        "### Formatting data"
      ]
    },
    {
      "cell_type": "code",
      "execution_count": null,
      "id": "c28fdfee",
      "metadata": {
        "colab": {
          "base_uri": "https://localhost:8080/",
          "height": 150
        },
        "id": "c28fdfee",
        "outputId": "d0f5baec-2f97-456d-ae72-ed6ad92f0b94",
        "vscode": {
          "languageId": "python"
        }
      },
      "outputs": [
        {
          "name": "stdout",
          "output_type": "stream",
          "text": [
            "Preferences [ME2201] ->  ME2201\n",
            "Preferences [ME2202] ->  ME2202\n",
            "Preferences [EE2201] ->  EE2201\n",
            "Preferences [EE2202] ->  EE2202\n"
          ]
        },
        {
          "data": {
            "text/html": [
              "\n",
              "  <div id=\"df-49452cb8-5497-4f7f-8b33-871af7cd2ad0\">\n",
              "    <div class=\"colab-df-container\">\n",
              "      <div>\n",
              "<style scoped>\n",
              "    .dataframe tbody tr th:only-of-type {\n",
              "        vertical-align: middle;\n",
              "    }\n",
              "\n",
              "    .dataframe tbody tr th {\n",
              "        vertical-align: top;\n",
              "    }\n",
              "\n",
              "    .dataframe thead th {\n",
              "        text-align: right;\n",
              "    }\n",
              "</style>\n",
              "<table border=\"1\" class=\"dataframe\">\n",
              "  <thead>\n",
              "    <tr style=\"text-align: right;\">\n",
              "      <th></th>\n",
              "      <th>Timestamp</th>\n",
              "      <th>Name</th>\n",
              "      <th>Department</th>\n",
              "      <th>ME2201</th>\n",
              "      <th>ME2202</th>\n",
              "      <th>EE2201</th>\n",
              "      <th>EE2202</th>\n",
              "    </tr>\n",
              "  </thead>\n",
              "  <tbody>\n",
              "    <tr>\n",
              "      <th>0</th>\n",
              "      <td>5/28/2023 16:14:05</td>\n",
              "      <td>fsdgfvdssdf</td>\n",
              "      <td>Department of Electrical Engineering</td>\n",
              "      <td>NaN</td>\n",
              "      <td>NaN</td>\n",
              "      <td>0</td>\n",
              "      <td>5</td>\n",
              "    </tr>\n",
              "  </tbody>\n",
              "</table>\n",
              "</div>\n",
              "      <button class=\"colab-df-convert\" onclick=\"convertToInteractive('df-49452cb8-5497-4f7f-8b33-871af7cd2ad0')\"\n",
              "              title=\"Convert this dataframe to an interactive table.\"\n",
              "              style=\"display:none;\">\n",
              "        \n",
              "  <svg xmlns=\"http://www.w3.org/2000/svg\" height=\"24px\"viewBox=\"0 0 24 24\"\n",
              "       width=\"24px\">\n",
              "    <path d=\"M0 0h24v24H0V0z\" fill=\"none\"/>\n",
              "    <path d=\"M18.56 5.44l.94 2.06.94-2.06 2.06-.94-2.06-.94-.94-2.06-.94 2.06-2.06.94zm-11 1L8.5 8.5l.94-2.06 2.06-.94-2.06-.94L8.5 2.5l-.94 2.06-2.06.94zm10 10l.94 2.06.94-2.06 2.06-.94-2.06-.94-.94-2.06-.94 2.06-2.06.94z\"/><path d=\"M17.41 7.96l-1.37-1.37c-.4-.4-.92-.59-1.43-.59-.52 0-1.04.2-1.43.59L10.3 9.45l-7.72 7.72c-.78.78-.78 2.05 0 2.83L4 21.41c.39.39.9.59 1.41.59.51 0 1.02-.2 1.41-.59l7.78-7.78 2.81-2.81c.8-.78.8-2.07 0-2.86zM5.41 20L4 18.59l7.72-7.72 1.47 1.35L5.41 20z\"/>\n",
              "  </svg>\n",
              "      </button>\n",
              "      \n",
              "  <style>\n",
              "    .colab-df-container {\n",
              "      display:flex;\n",
              "      flex-wrap:wrap;\n",
              "      gap: 12px;\n",
              "    }\n",
              "\n",
              "    .colab-df-convert {\n",
              "      background-color: #E8F0FE;\n",
              "      border: none;\n",
              "      border-radius: 50%;\n",
              "      cursor: pointer;\n",
              "      display: none;\n",
              "      fill: #1967D2;\n",
              "      height: 32px;\n",
              "      padding: 0 0 0 0;\n",
              "      width: 32px;\n",
              "    }\n",
              "\n",
              "    .colab-df-convert:hover {\n",
              "      background-color: #E2EBFA;\n",
              "      box-shadow: 0px 1px 2px rgba(60, 64, 67, 0.3), 0px 1px 3px 1px rgba(60, 64, 67, 0.15);\n",
              "      fill: #174EA6;\n",
              "    }\n",
              "\n",
              "    [theme=dark] .colab-df-convert {\n",
              "      background-color: #3B4455;\n",
              "      fill: #D2E3FC;\n",
              "    }\n",
              "\n",
              "    [theme=dark] .colab-df-convert:hover {\n",
              "      background-color: #434B5C;\n",
              "      box-shadow: 0px 1px 3px 1px rgba(0, 0, 0, 0.15);\n",
              "      filter: drop-shadow(0px 1px 2px rgba(0, 0, 0, 0.3));\n",
              "      fill: #FFFFFF;\n",
              "    }\n",
              "  </style>\n",
              "\n",
              "      <script>\n",
              "        const buttonEl =\n",
              "          document.querySelector('#df-49452cb8-5497-4f7f-8b33-871af7cd2ad0 button.colab-df-convert');\n",
              "        buttonEl.style.display =\n",
              "          google.colab.kernel.accessAllowed ? 'block' : 'none';\n",
              "\n",
              "        async function convertToInteractive(key) {\n",
              "          const element = document.querySelector('#df-49452cb8-5497-4f7f-8b33-871af7cd2ad0');\n",
              "          const dataTable =\n",
              "            await google.colab.kernel.invokeFunction('convertToInteractive',\n",
              "                                                     [key], {});\n",
              "          if (!dataTable) return;\n",
              "\n",
              "          const docLinkHtml = 'Like what you see? Visit the ' +\n",
              "            '<a target=\"_blank\" href=https://colab.research.google.com/notebooks/data_table.ipynb>data table notebook</a>'\n",
              "            + ' to learn more about interactive tables.';\n",
              "          element.innerHTML = '';\n",
              "          dataTable['output_type'] = 'display_data';\n",
              "          await google.colab.output.renderOutput(dataTable, element);\n",
              "          const docLink = document.createElement('div');\n",
              "          docLink.innerHTML = docLinkHtml;\n",
              "          element.appendChild(docLink);\n",
              "        }\n",
              "      </script>\n",
              "    </div>\n",
              "  </div>\n",
              "  "
            ],
            "text/plain": [
              "            Timestamp         Name                            Department  \\\n",
              "0  5/28/2023 16:14:05  fsdgfvdssdf  Department of Electrical Engineering   \n",
              "\n",
              "   ME2201  ME2202  EE2201  EE2202  \n",
              "0     NaN     NaN       0       5  "
            ]
          },
          "execution_count": 6,
          "metadata": {},
          "output_type": "execute_result"
        }
      ],
      "source": [
        "i = 3\n",
        "for item in preferenceData.columns.values[3:]: \n",
        "    preferenceData.columns.values[i] = item.split(\"[\")[1].split(\"]\")[0]\n",
        "    print(item, \"-> \", preferenceData.columns.values[i])\n",
        "    preferenceData.head()\n",
        "    i = i + 1\n",
        "    \n",
        "preferenceData.head()"
      ]
    },
    {
      "cell_type": "markdown",
      "id": "c8468fd2",
      "metadata": {
        "id": "c8468fd2"
      },
      "source": [
        "### Initializing Variables"
      ]
    },
    {
      "cell_type": "code",
      "execution_count": null,
      "id": "f7c379f5",
      "metadata": {
        "id": "f7c379f5",
        "vscode": {
          "languageId": "python"
        }
      },
      "outputs": [],
      "source": [
        "import pandas as pd\n",
        "\n",
        "STUDENT_GROUPS = pd.dataFrame([StudentGroup(\"G1\", 100), StudentGroup(\"G2\", 90), StudentGroup(\"G3\", 20), StudentGroup(\"G4\", 120)])\n",
        "SUBJECT_LIST = [\n",
        "    Subject(\"SUBJ1\", \"EE\", 5, [1, 2], \"SUBJ1\"),\n",
        "    Subject(\"SUBJ2\", \"EE\", 6, [1], \"SUBJ2\"),\n",
        "    Subject(\"SUBJ3\", \"EE\", 3, [1], \"SUBJ3\"),\n",
        "    Subject(\"SUBJ4\", \"EE\", 2, [1, 3], \"SUBJ4\"),\n",
        "    Subject(\"SUBJ5\", \"ME\", 1, [2], \"SUBJ5\"),\n",
        "    Subject(\"SUBJ6\", \"ME\", 9, [2], \"SUBJ6\"),\n",
        "    Subject(\"SUBJ7\", \"ME\", 5, [2], \"SUBJ7\"),\n",
        "    Subject(\"SUBJ8\", \"ME\", 4, [2], \"SUBJ8\"),\n",
        "    Subject(\"SUBJ9\", \"CS\", 3, [3], \"SUBJ9\"),\n",
        "    Subject(\"SUBJ10\", \"CS\", 7, [3, 2], \"SUBJ10\"),\n",
        "    Subject(\"SUBJ11\", \"CS\", 8, [3, 4], \"SUBJ11\"),\n",
        "    Subject(\"SUBJ12\", \"CS\", 1, [3], \"SUBJ12\"),\n",
        "    Subject(\"SUBJ13\", \"ETC\",3, [4], \"SUBJ13\"),\n",
        "    Subject(\"SUBJ14\", \"ETC\", 5, [4], \"SUBJ14\"),\n",
        "    Subject(\"SUBJ15\", \"ETC\", 3, [4, 1], \"SUBJ15\"),\n",
        "    Subject(\"SUBJ16\", \"ETC\", 9, [4], \"SUBJ16\"),\n",
        "]\n",
        "PROFESSORS = pd.dataFrame([Professor()])\n",
        "\n",
        "SUBJECTS = pd.DataFrame(SUBJECT_LIST)\n",
        "\n",
        "print(SUBJECTS)\n"
      ]
    },
    {
      "cell_type": "code",
      "execution_count": null,
      "id": "QDe3g8ZNc9Lr",
      "metadata": {
        "id": "QDe3g8ZNc9Lr",
        "vscode": {
          "languageId": "python"
        }
      },
      "outputs": [],
      "source": [
        "NUM_OF_PARENTS = 0.2 # Num of Parents\n",
        "SIZE_OF_POPULATION = 100 # size of population\n",
        "PROB_OF_CROSSOVER = 20\n",
        "PROB_OF_MUTATION = "
      ]
    },
    {
      "cell_type": "markdown",
      "id": "cU0iNrF2UJ2j",
      "metadata": {
        "id": "cU0iNrF2UJ2j"
      },
      "source": [
        "## Issues\n",
        "\n",
        "1. What if the no. of professors is less than required profs.\n",
        "2. Should electives get a lower priority than normal subjects. \n",
        "3. WHat about multiple profs for same subject? \n",
        "> We will divide the subjec tinto parts like: EE2202_A and EE2202_B\n"
      ]
    },
    {
      "cell_type": "markdown",
      "id": "efcae294",
      "metadata": {
        "id": "efcae294"
      },
      "source": []
    },
    {
      "cell_type": "markdown",
      "id": "PgQ1okZcYliU",
      "metadata": {
        "id": "PgQ1okZcYliU"
      },
      "source": [
        "1. select a student group. \n",
        "2. use this grp's dept to filetr for subjs\n",
        "2. find this grp's subjs\n",
        "3. if the group doesnot have a dept, hen directly find the subj"
      ]
    },
    {
      "cell_type": "markdown",
      "id": "Dihvs6njb4r2",
      "metadata": {
        "id": "Dihvs6njb4r2"
      },
      "source": [
        "## ALGORITHM"
      ]
    },
    {
      "cell_type": "code",
      "execution_count": null,
      "id": "2F7WILUCbthf",
      "metadata": {
        "id": "2F7WILUCbthf",
        "vscode": {
          "languageId": "python"
        }
      },
      "outputs": [],
      "source": []
    }
  ],
  "metadata": {
    "colab": {
      "provenance": [],
      "toc_visible": true
    },
    "kernelspec": {
      "display_name": "Python 3 (ipykernel)",
      "language": "python",
      "name": "python3"
    }
  },
  "nbformat": 4,
  "nbformat_minor": 5
}
