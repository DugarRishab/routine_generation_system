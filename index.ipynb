{
  "cells": [
    {
      "cell_type": "markdown",
      "id": "d0d772fa",
      "metadata": {
        "id": "d0d772fa"
      },
      "source": [
        "# Routine Generation System\n",
        "\n",
        "Made using Genetic Algorithms\n",
        "\n",
        "Developed by Nafis Adnan Mondal, Rishab Dugar and Sanghamitra De\n"
      ]
    },
    {
      "cell_type": "markdown",
      "id": "ab58f0a3",
      "metadata": {
        "id": "ab58f0a3"
      },
      "source": [
        "### Inputs\n",
        "\n",
        "1. No. of student groups\n",
        "2. No. of students in each groups\n",
        "3. No. of classes of each student group\n",
        "4. Subj ID for all classes of each student group\n",
        "5. No. of profs\n",
        "6. Subject ID of each Prof (with preferences)\n",
        "7. No. of subjects\n",
        "8. Hours per week required for each subj\n",
        "9. Max hours of classes per day\n",
        "\n",
        "### Constraints\n",
        "\n",
        "**Hard Constraints**\n",
        "\n",
        "1. Student group strength <= seating capacity of each class room\n",
        "2. One prof per class\n",
        "3. One student group per class\n",
        "4. Length of each class >= 1\n",
        "\n",
        "**Soft Constraints**\n",
        "Length of each class <= 2\n",
        "\n",
        "### Output\n",
        "\n",
        "1. Routine\n",
        "\n"
      ]
    },
    {
      "cell_type": "markdown",
      "id": "83b1c84b",
      "metadata": {
        "id": "83b1c84b"
      },
      "source": [
        "## Breakdown\n",
        "\n",
        "| Item                                                     | Description                                                             | Position                                |\n",
        "| -------------------------------------------------------- | ----------------------------------------------------------------------- | --------------------------------------- |\n",
        "| Routine                                                  | Combination of many classes of an entire week                           | Combination of CHROMOSOMEs (individual) |\n",
        "| Class                                                    | Combination of prof, date & time, subj, studentgroup, length, classRoom | CHRMOSOME                               |\n",
        "| prof, date & time, subj, studentgroup, length, classRoom |                                                     | GENES                                   |\n",
        "| Selected ROutine                                         |                                                                         | PARENT                                  |\n",
        "| New Routine                                              |                                                                         | CHILDREN                                |\n",
        "\n",
        "### Methods used\n",
        "\n",
        "1. Creating an Initial Population - Random\n",
        "2. Selection of Parents to Create a New Generation - Propotionate selection\n",
        "3. Next generation - Mixture of Parent and Children at a fixed ratio\n",
        "4. Crossover - 1 point crossover\n",
        "5. Mutation - Non-uniform mutation\n",
        "6. termination criteria - minimal changes in fitness of consecutive generation\n",
        "\n",
        "### Parameters to be decide:\n",
        "\n",
        "1. The size of the population of solutions (M),\n",
        "2. the number of parents (R),\n",
        "3. the probability of crossover (PC),\n",
        "4. the probability of mutation (PM),\n",
        "5. the fitness function\n",
        "6. and the termination criterion\n"
      ]
    },
    {
      "cell_type": "markdown",
      "id": "f37382f6",
      "metadata": {
        "id": "f37382f6"
      },
      "source": []
    },
    {
      "cell_type": "markdown",
      "id": "35a96f49",
      "metadata": {
        "id": "35a96f49"
      },
      "source": [
        "## Initializing Descision Variables\n"
      ]
    },
    {
      "cell_type": "markdown",
      "id": "0b307f58",
      "metadata": {
        "id": "0b307f58"
      },
      "source": [
        "### Defining Variables"
      ]
    },
    {
      "cell_type": "code",
      "execution_count": null,
      "id": "a4dbe0cc",
      "metadata": {
        "id": "a4dbe0cc"
      },
      "outputs": [],
      "source": [
        "class Subject:\n",
        "    def __init__(self, title, dept, hours, groups,  _id) -> None: \n",
        "        self.title = title\n",
        "        self.dept = dept\n",
        "        self.hours = hours\n",
        "        self.groups = groups # array\n",
        "        self._id = _id,\n",
        "        "
      ]
    },
    {
      "cell_type": "code",
      "execution_count": null,
      "id": "b273752f",
      "metadata": {
        "id": "b273752f"
      },
      "outputs": [],
      "source": [
        "class StudentGroup: \n",
        "\tdef __init__(self, name, size):\n",
        "\t\tself.name = name\n",
        "\t\tself.size = size\n",
        "\t\tself.slots = [[0, 0, 0, 0, 0, 0, 0], [0, 0, 0, 0, 0, 0, 0], [0, 0, 0, 0, 0, 0, 0], [0, 0, 0, 0, 0, 0, 0], [0, 0, 0, 0, 0, 0, 0]]"
      ]
    },
    {
      "cell_type": "code",
      "execution_count": null,
      "id": "a2aeb7da",
      "metadata": {
        "id": "a2aeb7da"
      },
      "outputs": [],
      "source": [
        "class Professor: \n",
        "    def __init__(self, name, dept):\n",
        "        self.name = name\n",
        "        self.dept = dept\n",
        "        self.slots = [[0, 0, 0, 0, 0, 0, 0], [0, 0, 0, 0, 0, 0, 0], [0, 0, 0, 0, 0, 0, 0], [0, 0, 0, 0, 0, 0, 0], [0, 0, 0, 0, 0, 0, 0]]\n",
        "        # self.preference_per_subject = preference_per_subject"
      ]
    },
    {
      "cell_type": "markdown",
      "id": "1dgZ3e1ulEnZ",
      "metadata": {
        "id": "1dgZ3e1ulEnZ"
      },
      "source": [
        "# routine 1 making: \n",
        "\n",
        "    1. select a batch\n",
        "    2. select a classroom\n",
        "    3. select a subj > subj.count ++\n",
        "    4. select a group >\n",
        "    \n",
        "\n",
        "# routine 2 making\n",
        "    \n",
        "    1. select a batch\n",
        "    2. select a classroom\n",
        "    3. select a subj > subj.count ++\n",
        "    4. select a group >\n",
        "    ;\n",
        "    ;\n",
        "    ;\n",
        "    ;\n",
        "    n. process over > 1 rountine created\n",
        "\n",
        "    1. count fitness\n",
        "    2. count penalty\n",
        "    3. should we we exclude it\n",
        "\n",
        "    reset all vales of subject\n",
        "\n",
        "    repeat"
      ]
    },
    {
      "cell_type": "markdown",
      "id": "0baa3692",
      "metadata": {
        "id": "0baa3692"
      },
      "source": [
        "### Import Data from FORM"
      ]
    },
    {
      "cell_type": "code",
      "execution_count": null,
      "id": "cb232266",
      "metadata": {
        "id": "cb232266"
      },
      "outputs": [],
      "source": [
        "import pandas as pd\n",
        "import os\n",
        "\n",
        "DATA_PATH = os.path.join(\"/content/Preference_form_for_Profs_-_Form_Responses_1.csv\")\n",
        "\n",
        "def loadPreferenceData(path = DATA_PATH):\n",
        "    return pd.read_csv(path)\n",
        "\n",
        "preferenceData = loadPreferenceData()\n",
        "preferenceData.head()\n"
      ]
    },
    {
      "cell_type": "markdown",
      "id": "e903e1dc",
      "metadata": {
        "id": "e903e1dc"
      },
      "source": [
        "### Formatting data"
      ]
    },
    {
      "cell_type": "code",
      "execution_count": null,
      "id": "c28fdfee",
      "metadata": {
        "colab": {
          "base_uri": "https://localhost:8080/",
          "height": 150
        },
        "id": "c28fdfee",
        "outputId": "d0f5baec-2f97-456d-ae72-ed6ad92f0b94"
      },
      "outputs": [
        {
          "name": "stdout",
          "output_type": "stream",
          "text": [
            "Preferences [ME2201] ->  ME2201\n",
            "Preferences [ME2202] ->  ME2202\n",
            "Preferences [EE2201] ->  EE2201\n",
            "Preferences [EE2202] ->  EE2202\n"
          ]
        },
        {
          "data": {
            "text/html": [
              "\n",
              "  <div id=\"df-49452cb8-5497-4f7f-8b33-871af7cd2ad0\">\n",
              "    <div class=\"colab-df-container\">\n",
              "      <div>\n",
              "<style scoped>\n",
              "    .dataframe tbody tr th:only-of-type {\n",
              "        vertical-align: middle;\n",
              "    }\n",
              "\n",
              "    .dataframe tbody tr th {\n",
              "        vertical-align: top;\n",
              "    }\n",
              "\n",
              "    .dataframe thead th {\n",
              "        text-align: right;\n",
              "    }\n",
              "</style>\n",
              "<table border=\"1\" class=\"dataframe\">\n",
              "  <thead>\n",
              "    <tr style=\"text-align: right;\">\n",
              "      <th></th>\n",
              "      <th>Timestamp</th>\n",
              "      <th>Name</th>\n",
              "      <th>Department</th>\n",
              "      <th>ME2201</th>\n",
              "      <th>ME2202</th>\n",
              "      <th>EE2201</th>\n",
              "      <th>EE2202</th>\n",
              "    </tr>\n",
              "  </thead>\n",
              "  <tbody>\n",
              "    <tr>\n",
              "      <th>0</th>\n",
              "      <td>5/28/2023 16:14:05</td>\n",
              "      <td>fsdgfvdssdf</td>\n",
              "      <td>Department of Electrical Engineering</td>\n",
              "      <td>NaN</td>\n",
              "      <td>NaN</td>\n",
              "      <td>0</td>\n",
              "      <td>5</td>\n",
              "    </tr>\n",
              "  </tbody>\n",
              "</table>\n",
              "</div>\n",
              "      <button class=\"colab-df-convert\" onclick=\"convertToInteractive('df-49452cb8-5497-4f7f-8b33-871af7cd2ad0')\"\n",
              "              title=\"Convert this dataframe to an interactive table.\"\n",
              "              style=\"display:none;\">\n",
              "        \n",
              "  <svg xmlns=\"http://www.w3.org/2000/svg\" height=\"24px\"viewBox=\"0 0 24 24\"\n",
              "       width=\"24px\">\n",
              "    <path d=\"M0 0h24v24H0V0z\" fill=\"none\"/>\n",
              "    <path d=\"M18.56 5.44l.94 2.06.94-2.06 2.06-.94-2.06-.94-.94-2.06-.94 2.06-2.06.94zm-11 1L8.5 8.5l.94-2.06 2.06-.94-2.06-.94L8.5 2.5l-.94 2.06-2.06.94zm10 10l.94 2.06.94-2.06 2.06-.94-2.06-.94-.94-2.06-.94 2.06-2.06.94z\"/><path d=\"M17.41 7.96l-1.37-1.37c-.4-.4-.92-.59-1.43-.59-.52 0-1.04.2-1.43.59L10.3 9.45l-7.72 7.72c-.78.78-.78 2.05 0 2.83L4 21.41c.39.39.9.59 1.41.59.51 0 1.02-.2 1.41-.59l7.78-7.78 2.81-2.81c.8-.78.8-2.07 0-2.86zM5.41 20L4 18.59l7.72-7.72 1.47 1.35L5.41 20z\"/>\n",
              "  </svg>\n",
              "      </button>\n",
              "      \n",
              "  <style>\n",
              "    .colab-df-container {\n",
              "      display:flex;\n",
              "      flex-wrap:wrap;\n",
              "      gap: 12px;\n",
              "    }\n",
              "\n",
              "    .colab-df-convert {\n",
              "      background-color: #E8F0FE;\n",
              "      border: none;\n",
              "      border-radius: 50%;\n",
              "      cursor: pointer;\n",
              "      display: none;\n",
              "      fill: #1967D2;\n",
              "      height: 32px;\n",
              "      padding: 0 0 0 0;\n",
              "      width: 32px;\n",
              "    }\n",
              "\n",
              "    .colab-df-convert:hover {\n",
              "      background-color: #E2EBFA;\n",
              "      box-shadow: 0px 1px 2px rgba(60, 64, 67, 0.3), 0px 1px 3px 1px rgba(60, 64, 67, 0.15);\n",
              "      fill: #174EA6;\n",
              "    }\n",
              "\n",
              "    [theme=dark] .colab-df-convert {\n",
              "      background-color: #3B4455;\n",
              "      fill: #D2E3FC;\n",
              "    }\n",
              "\n",
              "    [theme=dark] .colab-df-convert:hover {\n",
              "      background-color: #434B5C;\n",
              "      box-shadow: 0px 1px 3px 1px rgba(0, 0, 0, 0.15);\n",
              "      filter: drop-shadow(0px 1px 2px rgba(0, 0, 0, 0.3));\n",
              "      fill: #FFFFFF;\n",
              "    }\n",
              "  </style>\n",
              "\n",
              "      <script>\n",
              "        const buttonEl =\n",
              "          document.querySelector('#df-49452cb8-5497-4f7f-8b33-871af7cd2ad0 button.colab-df-convert');\n",
              "        buttonEl.style.display =\n",
              "          google.colab.kernel.accessAllowed ? 'block' : 'none';\n",
              "\n",
              "        async function convertToInteractive(key) {\n",
              "          const element = document.querySelector('#df-49452cb8-5497-4f7f-8b33-871af7cd2ad0');\n",
              "          const dataTable =\n",
              "            await google.colab.kernel.invokeFunction('convertToInteractive',\n",
              "                                                     [key], {});\n",
              "          if (!dataTable) return;\n",
              "\n",
              "          const docLinkHtml = 'Like what you see? Visit the ' +\n",
              "            '<a target=\"_blank\" href=https://colab.research.google.com/notebooks/data_table.ipynb>data table notebook</a>'\n",
              "            + ' to learn more about interactive tables.';\n",
              "          element.innerHTML = '';\n",
              "          dataTable['output_type'] = 'display_data';\n",
              "          await google.colab.output.renderOutput(dataTable, element);\n",
              "          const docLink = document.createElement('div');\n",
              "          docLink.innerHTML = docLinkHtml;\n",
              "          element.appendChild(docLink);\n",
              "        }\n",
              "      </script>\n",
              "    </div>\n",
              "  </div>\n",
              "  "
            ],
            "text/plain": [
              "            Timestamp         Name                            Department  \\\n",
              "0  5/28/2023 16:14:05  fsdgfvdssdf  Department of Electrical Engineering   \n",
              "\n",
              "   ME2201  ME2202  EE2201  EE2202  \n",
              "0     NaN     NaN       0       5  "
            ]
          },
          "execution_count": 6,
          "metadata": {},
          "output_type": "execute_result"
        }
      ],
      "source": [
        "i = 3\n",
        "for item in preferenceData.columns.values[3:]: \n",
        "    preferenceData.columns.values[i] = item.split(\"[\")[1].split(\"]\")[0]\n",
        "    print(item, \"-> \", preferenceData.columns.values[i])\n",
        "    preferenceData.head()\n",
        "    i = i + 1\n",
        "    \n",
        "preferenceData.head()"
      ]
    },
    {
      "cell_type": "markdown",
      "id": "c8468fd2",
      "metadata": {
        "id": "c8468fd2"
      },
      "source": [
        "### Initializing Variables"
      ]
    },
    {
      "cell_type": "code",
      "execution_count": null,
      "id": "f7c379f5",
      "metadata": {
        "colab": {
          "base_uri": "https://localhost:8080/"
        },
        "id": "f7c379f5",
        "outputId": "8a6a4a88-98df-4102-e2d4-fd4172ca029d"
      },
      "outputs": [
        {
          "name": "stdout",
          "output_type": "stream",
          "text": [
            "[{'title': 'SUBJ1', 'dept': 'EE', 'hours': 5, 'groups': [1, 2], '_id': 'SUBJ1'}, {'title': 'SUBJ2', 'dept': 'EE', 'hours': 6, 'groups': [1], '_id': 'SUBJ2'}, {'title': 'SUBJ3', 'dept': 'EE', 'hours': 3, 'groups': [1], '_id': 'SUBJ3'}, {'title': 'SUBJ4', 'dept': 'EE', 'hours': 2, 'groups': [1, 3], '_id': 'SUBJ4'}, {'title': 'SUBJ5', 'dept': 'ME', 'hours': 1, 'groups': [2], '_id': 'SUBJ5'}, {'title': 'SUBJ6', 'dept': 'ME', 'hours': 9, 'groups': [2], '_id': 'SUBJ6'}, {'title': 'SUBJ7', 'dept': 'ME', 'hours': 5, 'groups': [2], '_id': 'SUBJ7'}, {'title': 'SUBJ8', 'dept': 'ME', 'hours': 4, 'groups': [2], '_id': 'SUBJ8'}, {'title': 'SUBJ9', 'dept': 'CS', 'hours': 3, 'groups': [3], '_id': 'SUBJ9'}, {'title': 'SUBJ10', 'dept': 'CS', 'hours': 7, 'groups': [3, 2], '_id': 'SUBJ10'}, {'title': 'SUBJ11', 'dept': 'CS', 'hours': 8, 'groups': [3, 4], '_id': 'SUBJ11'}, {'title': 'SUBJ12', 'dept': 'CS', 'hours': 1, 'groups': [3], '_id': 'SUBJ12'}, {'title': 'SUBJ13', 'dept': 'ETC', 'hours': 3, 'groups': [4], '_id': 'SUBJ13'}, {'title': 'SUBJ14', 'dept': 'ETC', 'hours': 5, 'groups': [4], '_id': 'SUBJ14'}, {'title': 'SUBJ15', 'dept': 'ETC', 'hours': 3, 'groups': [4, 1], '_id': 'SUBJ15'}, {'title': 'SUBJ16', 'dept': 'ETC', 'hours': 9, 'groups': [4], '_id': 'SUBJ16'}]\n",
            "{'name': 'G1', 'size': 100, 'slots': [[0, 0, 0, 0, 0, 0, 0], [0, 0, 0, 0, 0, 0, 0], [0, 0, 0, 0, 0, 0, 0], [0, 0, 0, 0, 0, 0, 0], [0, 0, 0, 0, 0, 0, 0]]}\n"
          ]
        }
      ],
      "source": [
        "# import pandas as pd\n",
        "\n",
        "STUDENT_GROUP_LIST = [StudentGroup(\"G1\", 100), StudentGroup(\"G2\", 90), StudentGroup(\"G3\", 20), StudentGroup(\"G4\", 120)]\n",
        "SUBJECT_LIST = [\n",
        "    Subject(\"SUBJ1\", \"EE\", 5, [1, 2], \"SUBJ1\"),\n",
        "    Subject(\"SUBJ2\", \"EE\", 6, [1], \"SUBJ2\"),\n",
        "    Subject(\"SUBJ3\", \"EE\", 3, [1], \"SUBJ3\"),\n",
        "    Subject(\"SUBJ4\", \"EE\", 2, [1, 3], \"SUBJ4\"),\n",
        "    Subject(\"SUBJ5\", \"ME\", 1, [2], \"SUBJ5\"),\n",
        "    Subject(\"SUBJ6\", \"ME\", 9, [2], \"SUBJ6\"),\n",
        "    Subject(\"SUBJ7\", \"ME\", 5, [2], \"SUBJ7\"),\n",
        "    Subject(\"SUBJ8\", \"ME\", 4, [2], \"SUBJ8\"),\n",
        "    Subject(\"SUBJ9\", \"CS\", 3, [3], \"SUBJ9\"),\n",
        "    Subject(\"SUBJ10\", \"CS\", 7, [3, 2], \"SUBJ10\"),\n",
        "    Subject(\"SUBJ11\", \"CS\", 8, [3, 4], \"SUBJ11\"),\n",
        "    Subject(\"SUBJ12\", \"CS\", 1, [3], \"SUBJ12\"),\n",
        "    Subject(\"SUBJ13\", \"ETC\",3, [4], \"SUBJ13\"),\n",
        "    Subject(\"SUBJ14\", \"ETC\", 5, [4], \"SUBJ14\"),\n",
        "    Subject(\"SUBJ15\", \"ETC\", 3, [4, 1], \"SUBJ15\"),\n",
        "    Subject(\"SUBJ16\", \"ETC\", 9, [4], \"SUBJ16\"),\n",
        "]\n",
        "PROFESSOR_LIST = [Professor(\"P1\", \"EE\"), Professor(\"P2\", \"EE\"), Professor(\"P3\", \"EE\"), Professor(\"P4\", \"EE\"), Professor(\"P5\", \"EE\"), Professor(\"P6\", \"EE\"), Professor(\"P7\", \"EE\"), Professor(\"P8\", \"EE\")]\n",
        "\n",
        "STUDENT_GROUPS = [vars(stud) for stud in STUDENT_GROUP_LIST]\n",
        "SUBJECTS = [vars(subj) for subj in SUBJECT_LIST]\n",
        "PROFESSORS = [vars(prof) for prof in PROFESSOR_LIST]\n",
        "print(SUBJECTS)\n",
        "print(STUDENT_GROUPS[0])"
      ]
    },
    {
      "cell_type": "markdown",
      "id": "mW_eOrrEhtwf",
      "metadata": {
        "id": "mW_eOrrEhtwf"
      },
      "source": [
        "## Algorithm"
      ]
    },
    {
      "cell_type": "markdown",
      "id": "lCwh3T7Ph5sD",
      "metadata": {
        "id": "lCwh3T7Ph5sD"
      },
      "source": [
        "### Seperation of Routine Group-wise and Prof-wise\n",
        "\n",
        "This routine can be found int their respective Array"
      ]
    },
    {
      "cell_type": "code",
      "execution_count": null,
      "id": "UEcFGJSOh5Fx",
      "metadata": {
        "id": "UEcFGJSOh5Fx"
      },
      "outputs": [],
      "source": [
        "\n",
        "def getRoutineGroupAndProfWise(routine): \n",
        "    for cl in routine: \n",
        "        group = cl[3]\n",
        "        subj = cl[0]\n",
        "        slots = cl[5] # array. ex - solts = [2, 3] this means 2nd and 3rd slot\n",
        "        day = cl[4]\n",
        "        prof = cl[1]\n",
        "\n",
        "        # For student-wise routine\n",
        "        for stud in STUDENT_GROUPS:\n",
        "            if stud['name'] == group: \n",
        "                for slot in slots: \n",
        "                    if stud['slots'][day][slot] == 0:\n",
        "                        stud['slots'][day][slot] = {\n",
        "                            'subj': subj,\n",
        "                            'prof': prof\n",
        "                        }\n",
        "                    else:\n",
        "                        stud['slots'][day][slot] = \"ERROR_101\" # ERROR 101 means slot already full\n",
        "\n",
        "        # For prof-wise routine\n",
        "        for prof in PROFESSORS:\n",
        "            if prof['name'] == prof: \n",
        "                for slot in slots: \n",
        "                    if prof['slots'][day][slot] == 0:\n",
        "                        prof['slots'][day][slot] = {\n",
        "                            'subj': subj,\n",
        "                            'prof': prof\n",
        "                        }\n",
        "                    else:\n",
        "                        prof['slots'][day][slot] = \"ERROR_101\" # ERROR 101 means slot already full\n"
      ]
    },
    {
      "cell_type": "markdown",
      "id": "E9OpNmcz4IPq",
      "metadata": {
        "id": "E9OpNmcz4IPq"
      },
      "source": [
        "### Calculating Fitness and Penaty values"
      ]
    },
    {
      "cell_type": "code",
      "execution_count": null,
      "id": "wjK5CBHchtWV",
      "metadata": {
        "id": "wjK5CBHchtWV"
      },
      "outputs": [],
      "source": [
        "# structure of output = [routine, routine, ...]\n",
        "# structure of routine = [class, class, ...]\n",
        "# structure of class = [SUBJ_CODE, PROF, ROOM, STUDENT_GROUP, DAY, SLOTS]\n",
        "\n",
        "def findFitness(routine): \n",
        "    \n",
        "    # No. of hours for each subject is not met                              >> -x^2 points for every hour that is missing from each subject\n",
        "    pass\n",
        "\n",
        "def exclusion(): \n",
        "    # More than 1 class for the same student group falls under same slot\n",
        "    # more than 1 class of the same prof falls under the same slot\n",
        "    # Hours of each subject are not met. \n",
        "    \n",
        "    for stud in STUDENT_GROUPS: \n",
        "        for slots in stud['slots']:\n",
        "            for slot in slots: \n",
        "                if slot == \"ERROR_101\":\n",
        "                    return True\n",
        "    \n",
        "    for prof in PROFESSORS: \n",
        "        for slots in prof['slots']:\n",
        "            for slot in slots: \n",
        "                if slot == \"ERROR_101\":\n",
        "                    return True\n",
        "    \n",
        "\n",
        "def findPenalty(routine):\n",
        "    for cl in routine: \n",
        "       \n",
        "        subj = cl\n",
        "    # Same subject going for more than 4 hours for the same student group   >> -1 point for each repeat\n",
        "    # All 8 slots of a day for a student group is booked for theory         >> -5 point for each student group\n",
        "    #\n",
        "\n",
        "# Call this funciton when u want to check the fitness/penalty of any routine. \n",
        "def checkRoutine(routine):\n",
        "    getRoutineGroupAndProfWise(routine)\n",
        "\n",
        "    remove = exclusion(routine)\n",
        "    fitness = findFitness(routine)\n",
        "    penalty = findPenalty(routine)\n",
        "\n",
        "    # Resetting slots values of STUDENTS and PROFESSORS\n",
        "    for stud in STUDENT_GROUPS: \n",
        "        for slots in stud['slots']:\n",
        "            for slot in slots: \n",
        "                slot = 0\n",
        "    \n",
        "    for prof in PROFESSORS: \n",
        "        for slots in prof['slots']:\n",
        "            for slot in slots: \n",
        "                slot = 0\n",
        "\n",
        "    if remove:\n",
        "        return not remove\n",
        "    else:\n",
        "        return [fitness, penalty]\n",
        "\n",
        "    # OUTPUT: \n",
        "        # Either False whichmeans this solution is tobe excluded\n",
        "        # Or [fitness, penalty] if soln is to be included\n",
        "\n"
      ]
    },
    {
      "cell_type": "markdown",
      "id": "Caslb60b5nqr",
      "metadata": {
        "id": "Caslb60b5nqr"
      },
      "source": [
        "### Selecting Parents"
      ]
    },
    {
      "cell_type": "markdown",
      "id": "HcYBQJun7Ouj",
      "metadata": {
        "id": "HcYBQJun7Ouj"
      },
      "source": [
        "Some user-defined parameters"
      ]
    },
    {
      "cell_type": "code",
      "execution_count": null,
      "id": "QDe3g8ZNc9Lr",
      "metadata": {
        "id": "QDe3g8ZNc9Lr"
      },
      "outputs": [],
      "source": [
        "NUM_OF_PARENTS = 0.2 # Num of Parents\n",
        "SIZE_OF_POPULATION = 100 # size of population\n",
        "PROB_OF_CROSSOVER = 0.2\n",
        "PROB_OF_MUTATION = 0.05"
      ]
    },
    {
      "cell_type": "markdown",
      "id": "ekG4o-6fXJ0t",
      "metadata": {
        "id": "ekG4o-6fXJ0t"
      },
      "source": [
        "using propotionate approach "
      ]
    },
    {
      "cell_type": "code",
      "execution_count": null,
      "id": "a1eY1GRe5nVh",
      "metadata": {
        "id": "a1eY1GRe5nVh"
      },
      "outputs": [],
      "source": [
        "import random\n",
        "# structure of output = [routine, routine, ...]\n",
        "# structure of routine = [class, class, ...] # almost 140\n",
        "# structure of class = [SUBJ_CODE, PROF, ROOM, STUDENT_GROUP, DAY, SLOTS]\n",
        "\n",
        "# Generation -> output\n",
        "# Fitness array = []\n",
        "# Penalty array = []\n",
        "\n",
        "generation = []\n",
        "fitnessValues = []\n",
        "penaltyValues = []\n",
        "totalFitness = 0\n",
        "probabilityOfSelection = []\n",
        "selectedParents = []\n",
        "rankOfSelectedParents = []\n",
        "# Finding Probaility of Selection - \n",
        "for i in range(SIZE_OF_POPULATION):\n",
        "    totalFitness = totalFitness + fitnessValues[i] - penaltyValues[i]\n",
        "\n",
        "for i in range(SIZE_OF_POPULATION):\n",
        "    probabilityOfSelection[i] = (fitnessValues[i] - penaltyValues[i]) / totalFitness\n",
        "\n",
        "for i in range(SIZE_OF_POPULATION): \n",
        "    rand = random.random(0, 1)\n",
        "    if rand >= probabilityOfSelection: \n",
        "        rank = (fitnessValues[i] - penaltyValues[i]) / totalFitness\n",
        "        for j in range (len(selectedParents)):\n",
        "          if (rank > rankOfSelectedParents[j])\n",
        "            selectedParents.insert(j ,generation[i])\n",
        "            rankOfSelectedParents.insert(j, rank)\n",
        "            break\n",
        "\n"
      ]
    },
    {
      "attachments": {},
      "cell_type": "markdown",
      "id": "OxQl5ls2d3F6",
      "metadata": {
        "id": "OxQl5ls2d3F6"
      },
      "source": [
        "### Crossover"
      ]
    },
    {
      "cell_type": "code",
      "execution_count": null,
      "id": "vwKnkl2_d7Ga",
      "metadata": {
        "id": "vwKnkl2_d7Ga"
      },
      "outputs": [],
      "source": [
        "# crossover factor = 0.2 -> almost 28 genes will exchange\n",
        "\n",
        "# for i in range(len(generation)):\n",
        "#     # for generation[i]\n",
        "\n",
        "children = []\n",
        "\n",
        "for i in range(0.8*SIZE_OF_POPULATION):\n",
        "    rand1 = random.randint(0, len(generation))\n",
        "    rand2 = random.randint(0, len(generation))\n",
        "\n",
        "    parent1 = generation[rand1]\n",
        "    parent2 = generation[rand2]\n",
        "\n",
        "    crossoverPoint = random.randint(0, len(parent1))\n",
        "\n",
        "    child1 = []\n",
        "    child2 = []\n",
        "\n",
        "    for i in range(len(parent1)):\n",
        "        if i < crossoverPoint or i > crossoverPoint + PROB_OF_CROSSOVER * len(parent1):\n",
        "            child1[i] = parent1[i]\n",
        "            child2[i] = parent2[i]\n",
        "        else:\n",
        "            child1[i] = parent2[i]\n",
        "            child2[i] = parent1[i]\n",
        "    \n",
        "    children.append(child1)\n",
        "    children.append(child2)\n",
        "\n",
        "newGeneration = selectedParents + children\n"
      ]
    },
    {
      "attachments": {},
      "cell_type": "markdown",
      "id": "f5ecf85b",
      "metadata": {},
      "source": [
        "### Mutation"
      ]
    },
    {
      "attachments": {},
      "cell_type": "markdown",
      "id": "1e72ffcf",
      "metadata": {},
      "source": [
        "Checking Fitness and Penalty valuea again. If this generation is fit enough then Mutation will not happen."
      ]
    },
    {
      "cell_type": "code",
      "execution_count": null,
      "id": "4f475430",
      "metadata": {},
      "outputs": [],
      "source": []
    },
    {
      "cell_type": "code",
      "execution_count": null,
      "id": "6f55d94a",
      "metadata": {},
      "outputs": [],
      "source": [
        "for i in range(len(children)):\n",
        "    rand = random.randrange(0, 1)\n",
        "    if rand <= PROB_OF_MUTATION:\n",
        "        # mutation happens\n",
        "        \n"
      ]
    },
    {
      "cell_type": "markdown",
      "id": "cU0iNrF2UJ2j",
      "metadata": {
        "id": "cU0iNrF2UJ2j"
      },
      "source": [
        "## Issues\n",
        "\n",
        "1. What if the no. of professors is less than required profs.\n",
        "2. Should electives get a lower priority than normal subjects. \n",
        "3. WHat about multiple profs for same subject? \n",
        "> We will divide the subjec tinto parts like: EE2202_A and EE2202_B\n"
      ]
    },
    {
      "cell_type": "markdown",
      "id": "efcae294",
      "metadata": {
        "id": "efcae294"
      },
      "source": []
    },
    {
      "cell_type": "markdown",
      "id": "PgQ1okZcYliU",
      "metadata": {
        "id": "PgQ1okZcYliU"
      },
      "source": [
        "1. select a student group. \n",
        "2. use this grp's dept to filetr for subjs\n",
        "2. find this grp's subjs\n",
        "3. if the group doesnot have a dept, hen directly find the subj"
      ]
    },
    {
      "cell_type": "markdown",
      "id": "Dihvs6njb4r2",
      "metadata": {
        "id": "Dihvs6njb4r2"
      },
      "source": [
        "\n",
        "\n",
        "## ALGORITHM\n",
        "\n",
        "1. Choose a rand grop\n",
        "2. Choose rand subject (but within the subjs of that group)\n",
        "3. choose random prof (within the space of each subj)\n",
        "4. choose random slot (but alwasy less then 3)\n",
        "5. Now u have a single class\n",
        "6. repeat this process until every slot is full or every subj demand is full whichever is lower. \n",
        "7. "
      ]
    }
  ],
  "metadata": {
    "colab": {
      "provenance": []
    },
    "kernelspec": {
      "display_name": "Python 3 (ipykernel)",
      "language": "python",
      "name": "python3"
    }
  },
  "nbformat": 4,
  "nbformat_minor": 5
}
